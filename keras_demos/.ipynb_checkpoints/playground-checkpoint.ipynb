{
 "cells": [
  {
   "cell_type": "markdown",
   "metadata": {},
   "source": [
    "# VAE"
   ]
  },
  {
   "cell_type": "code",
   "execution_count": null,
   "metadata": {},
   "outputs": [],
   "source": [
    "%matplotlib inlines\n",
    "\n",
    "# Packages\n",
    "import os\n",
    "import numpy as np\n",
    "import matplotlib.pyplot as plt\n",
    "\n",
    "# Keras\n",
    "import keras\n",
    "from keras import backend as K\n",
    "from keras.models import Sequential\n",
    "from keras.layers import Activation\n",
    "from keras.layers.core import Dense, Flatten\n",
    "from keras.optimizers import Adam\n",
    "from keras.metrics import categorical_crossentropy\n",
    "from keras.preprocessing.image import ImageDataGenerator\n",
    "from keras.layers.convolutional import *\n",
    "\n",
    "# Project Modules\n",
    "from modules import data\n",
    "from modules import visualization"
   ]
  },
  {
   "cell_type": "markdown",
   "metadata": {},
   "source": [
    "## Data"
   ]
  },
  {
   "cell_type": "code",
   "execution_count": null,
   "metadata": {},
   "outputs": [],
   "source": [
    "# Models\n",
    "model_file_path = os.path.join(os.path.dirname(__file__), 'models/medical_trial_mode.h5')\n",
    "\n",
    "# Data\n",
    "train_path = os.path.join(os.path.dirname(__file__), '../data/cat_or_dog/train')\n",
    "valid_path = os.path.join(os.path.dirname(__file__), '../data/cat_or_dog/valid')\n",
    "test_path = os.path.join(os.path.dirname(__file__), '../data/cat_or_dog/test')\n",
    "\n",
    "train_batches = ImageDataGenerator().flow_from_directory(train_path, target_size=(224,224), classes=['dog','cat'], batch_size=10)\n",
    "valid_batches = ImageDataGenerator().flow_from_directory(valid_path, target_size=(224,224), classes=['dog','cat'], batch_size=4)\n",
    "test_batches = ImageDataGenerator().flow_from_directory(test_path, target_size=(224,224), classes=['dog','cat'], batch_size=10)\n",
    "#test_batches.class_indices"
   ]
  },
  {
   "cell_type": "code",
   "execution_count": null,
   "metadata": {},
   "outputs": [],
   "source": [
    "## Model"
   ]
  },
  {
   "cell_type": "code",
   "execution_count": null,
   "metadata": {},
   "outputs": [],
   "source": [
    "# fine tuining of existing model\n",
    "vgg16_model = keras.applications.vgg16.VGG16()\n",
    "vgg16_model.summary()\n",
    "\n",
    "# Convert model to sequential\n",
    "model = Sequential()\n",
    "for layer in vgg16_model.layers:\n",
    "  model.add(layer)\n",
    "\n",
    "# Customize last layer\n",
    "\n",
    "model.layers.pop()\n",
    "\n",
    "# Locking existing layers; These should not be trained; treat as constant\n",
    "for layer in model.layers:\n",
    "  layer.trainable = False\n",
    "\n",
    "# Add last custom layer on top\n",
    "model.add(Dense(2, activation='softmax'))"
   ]
  },
  {
   "cell_type": "markdown",
   "metadata": {},
   "source": [
    "## Train"
   ]
  },
  {
   "cell_type": "code",
   "execution_count": null,
   "metadata": {},
   "outputs": [],
   "source": [
    "model.compile(Adam(lr=0.0001), loss='categorical_crossentropy', metrics=['accuracy'])\n",
    "\n",
    "model.fit_generator(train_batches, steps_per_epoch=4, validation_data=valid_batches, validation_steps=4, epochs=5, verbose=2)"
   ]
  },
  {
   "cell_type": "markdown",
   "metadata": {},
   "source": [
    "## Prediction"
   ]
  },
  {
   "cell_type": "code",
   "execution_count": null,
   "metadata": {},
   "outputs": [],
   "source": [
    "# Plot prediction\n",
    "test_imgs, test_labels = next(test_batches)\n",
    "visualization.plotImages(test_imgs, test_labels)\n",
    "\n",
    "# predict\n",
    "predictions = model.predict_generator(test_batches, steps=1, verbose=0)\n",
    "predictions = np.round(predictions)\n",
    "\n",
    "visualization.plotConfusionMatrix(test_labels[:,0], predictions[:,0])\n",
    "\n",
    "plt.show()"
   ]
  }
 ],
 "metadata": {
  "kernelspec": {
   "display_name": "Python 3",
   "language": "python",
   "name": "python3"
  },
  "language_info": {
   "codemirror_mode": {
    "name": "ipython",
    "version": 3
   },
   "file_extension": ".py",
   "mimetype": "text/x-python",
   "name": "python",
   "nbconvert_exporter": "python",
   "pygments_lexer": "ipython3",
   "version": "3.6.4"
  }
 },
 "nbformat": 4,
 "nbformat_minor": 2
}
